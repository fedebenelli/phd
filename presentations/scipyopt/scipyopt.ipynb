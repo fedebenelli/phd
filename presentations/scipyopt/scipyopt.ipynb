{
 "cells": [
  {
   "cell_type": "markdown",
   "id": "e81e6ee8",
   "metadata": {
    "cell_style": "center",
    "slideshow": {
     "slide_type": "slide"
    }
   },
   "source": [
    "# Pandas\n",
    "---\n",
    "\n",
    "## Lectura de datos con pandas\n",
    "Pandas es una módulo que permite lectura y manipulación de datos de una manera práctica.\n",
    "\n",
    "Para almacenar los datos en una variable se utilizan los métodos:\n",
    "```py\n",
    "- pandas.read_csv(<nombre-de-archivo>, sep=<tipo-de-separador>)\n",
    "- pandas.read_excel(<archivo-excel>)\n",
    "```\n",
    "\n",
    "El nombre estándar para importar pandas es `pd` y el nombre de variable para un `DataFrame` es `df`, por lo que la línea típica de lectura de datos es:\n",
    "`df = pd.read_csv`"
   ]
  },
  {
   "cell_type": "code",
   "execution_count": 21,
   "id": "7efc2194",
   "metadata": {
    "slideshow": {
     "slide_type": "subslide"
    }
   },
   "outputs": [],
   "source": [
    "import pandas as pd\n",
    "df = pd.read_excel('data.xlsx')"
   ]
  },
  {
   "cell_type": "code",
   "execution_count": 26,
   "id": "7c46e21f",
   "metadata": {
    "scrolled": false,
    "slideshow": {
     "slide_type": "subslide"
    }
   },
   "outputs": [
    {
     "data": {
      "text/html": [
       "<div>\n",
       "<style scoped>\n",
       "    .dataframe tbody tr th:only-of-type {\n",
       "        vertical-align: middle;\n",
       "    }\n",
       "\n",
       "    .dataframe tbody tr th {\n",
       "        vertical-align: top;\n",
       "    }\n",
       "\n",
       "    .dataframe thead th {\n",
       "        text-align: right;\n",
       "    }\n",
       "</style>\n",
       "<table border=\"1\" class=\"dataframe\">\n",
       "  <thead>\n",
       "    <tr style=\"text-align: right;\">\n",
       "      <th></th>\n",
       "      <th>x</th>\n",
       "      <th>y</th>\n",
       "    </tr>\n",
       "  </thead>\n",
       "  <tbody>\n",
       "    <tr>\n",
       "      <th>0</th>\n",
       "      <td>1</td>\n",
       "      <td>2</td>\n",
       "    </tr>\n",
       "    <tr>\n",
       "      <th>1</th>\n",
       "      <td>2</td>\n",
       "      <td>5</td>\n",
       "    </tr>\n",
       "    <tr>\n",
       "      <th>2</th>\n",
       "      <td>3</td>\n",
       "      <td>6</td>\n",
       "    </tr>\n",
       "    <tr>\n",
       "      <th>3</th>\n",
       "      <td>4</td>\n",
       "      <td>12</td>\n",
       "    </tr>\n",
       "    <tr>\n",
       "      <th>4</th>\n",
       "      <td>5</td>\n",
       "      <td>20</td>\n",
       "    </tr>\n",
       "    <tr>\n",
       "      <th>5</th>\n",
       "      <td>6</td>\n",
       "      <td>30</td>\n",
       "    </tr>\n",
       "    <tr>\n",
       "      <th>6</th>\n",
       "      <td>7</td>\n",
       "      <td>50</td>\n",
       "    </tr>\n",
       "    <tr>\n",
       "      <th>7</th>\n",
       "      <td>8</td>\n",
       "      <td>85</td>\n",
       "    </tr>\n",
       "    <tr>\n",
       "      <th>8</th>\n",
       "      <td>9</td>\n",
       "      <td>99</td>\n",
       "    </tr>\n",
       "    <tr>\n",
       "      <th>9</th>\n",
       "      <td>10</td>\n",
       "      <td>125</td>\n",
       "    </tr>\n",
       "  </tbody>\n",
       "</table>\n",
       "</div>"
      ],
      "text/plain": [
       "    x    y\n",
       "0   1    2\n",
       "1   2    5\n",
       "2   3    6\n",
       "3   4   12\n",
       "4   5   20\n",
       "5   6   30\n",
       "6   7   50\n",
       "7   8   85\n",
       "8   9   99\n",
       "9  10  125"
      ]
     },
     "execution_count": 26,
     "metadata": {},
     "output_type": "execute_result"
    }
   ],
   "source": [
    "df\n",
    "# df[\"x\"]\n",
    "# df[\"x\"].values"
   ]
  },
  {
   "cell_type": "markdown",
   "id": "56a7240e",
   "metadata": {
    "code_folding": [],
    "slideshow": {
     "slide_type": "slide"
    }
   },
   "source": [
    "# SciPy\n",
    "\n",
    "---\n",
    "\n",
    "SciPy es una librería que recopila múltiples funciones de interés en el ámbito científico. En este momento nos centramos en `scipy.optimize`\n",
    "\n",
    "## scipy.optimize\n",
    "`scipy.optimize` posee las funciones `minimize` y `curve_fit` que permiten el ajuste de funciones a datos reales."
   ]
  },
  {
   "cell_type": "markdown",
   "id": "d7d7befe",
   "metadata": {
    "slideshow": {
     "slide_type": "subslide"
    }
   },
   "source": [
    "### curve fit\n",
    "\n",
    "`curve_fit` es una función que recibe:\n",
    "\n",
    "- Una función estrucutrada como `f(x, *parametros)`\n",
    "- Datos de $x$ experimentales.\n",
    "- Datos de $y$ experimentales.\n",
    "    - Otros parámetros opcionales.\n",
    "    \n",
    " Y devuelve una tupla de dos elementos:\n",
    " \n",
    " - popt: Parámetros luego de optimizar.\n",
    " - pcov: Matriz de covarianza de parámetros ajustados. \n",
    " \n",
    " \n",
    " > Utiliza los mínimos cuadrados ($\\sum_i(y_i - f(x_i))^2$) como función objetivo para realizar el ajuste."
   ]
  },
  {
   "cell_type": "code",
   "execution_count": 27,
   "id": "136f15cb",
   "metadata": {
    "slideshow": {
     "slide_type": "subslide"
    }
   },
   "outputs": [],
   "source": [
    "from scipy.optimize import curve_fit\n",
    "\n",
    "curve_fit?"
   ]
  },
  {
   "cell_type": "code",
   "execution_count": null,
   "id": "420cb9c4",
   "metadata": {
    "code_folding": [],
    "slideshow": {
     "slide_type": "subslide"
    }
   },
   "outputs": [],
   "source": [
    "from numpy import exp\n",
    "\n",
    "def f1(x, a, b):\n",
    "    y = a*x + b\n",
    "    return y\n",
    "\n",
    "def f2(x, a, b, c):\n",
    "    y = a*x**2 + b*x + c\n",
    "    return y\n",
    "\n",
    "def f3(x, a, b, c):\n",
    "    y = a*exp(b*x) + c\n",
    "    return y"
   ]
  },
  {
   "cell_type": "code",
   "execution_count": 30,
   "id": "f5bf8508",
   "metadata": {
    "slideshow": {
     "slide_type": "subslide"
    }
   },
   "outputs": [
    {
     "data": {
      "text/plain": [
       "(array([ 13.84242424, -32.73333333]),\n",
       " array([[  3.05507804, -16.80292938],\n",
       "        [-16.80292938, 117.62050675]]))"
      ]
     },
     "execution_count": 30,
     "metadata": {},
     "output_type": "execute_result"
    }
   ],
   "source": [
    "curve_fit(f1, df[\"x\"], df[\"y\"])\n",
    "#curve_fit(f1, df[\"x\"], df[\"y\"])[0]"
   ]
  },
  {
   "cell_type": "code",
   "execution_count": null,
   "id": "c1ce2f53",
   "metadata": {
    "slideshow": {
     "slide_type": "subslide"
    }
   },
   "outputs": [],
   "source": [
    "a, b = curve_fit(f1, df[\"x\"], df[\"y\"])[0]"
   ]
  },
  {
   "cell_type": "code",
   "execution_count": 31,
   "id": "362d20ec",
   "metadata": {
    "slideshow": {
     "slide_type": "subslide"
    }
   },
   "outputs": [
    {
     "data": {
      "text/plain": [
       "[<matplotlib.lines.Line2D at 0x7fcc6cd2b970>]"
      ]
     },
     "execution_count": 31,
     "metadata": {},
     "output_type": "execute_result"
    },
    {
     "data": {
      "image/png": "[encoded data removed]",
      "text/plain": [
       "<Figure size 432x288 with 1 Axes>"
      ]
     },
     "metadata": {
      "needs_background": "light"
     },
     "output_type": "display_data"
    }
   ],
   "source": [
    "plt.scatter(df[\"x\"], df[\"y\"])\n",
    "plt.plot(x, f1(x, a, b), label=\"f1\")"
   ]
  },
  {
   "cell_type": "code",
   "execution_count": 33,
   "id": "8eb0a31a",
   "metadata": {
    "scrolled": true,
    "slideshow": {
     "slide_type": "subslide"
    }
   },
   "outputs": [
    {
     "data": {
      "text/plain": [
       "array([ 13.84242424, -32.73333333])"
      ]
     },
     "execution_count": 33,
     "metadata": {},
     "output_type": "execute_result"
    }
   ],
   "source": [
    "params1 = curve_fit(f1, df[\"x\"], df[\"y\"])[0]\n",
    "params2 = curve_fit(f2, df[\"x\"], df[\"y\"])[0]\n",
    "params3 = curve_fit(f3, df[\"x\"], df[\"y\"])[0]"
   ]
  },
  {
   "cell_type": "code",
   "execution_count": 34,
   "id": "e56c5a7e",
   "metadata": {
    "cell_style": "center",
    "scrolled": true,
    "slideshow": {
     "slide_type": "subslide"
    }
   },
   "outputs": [
    {
     "data": {
      "text/plain": [
       "(0.0, 150.0)"
      ]
     },
     "execution_count": 34,
     "metadata": {},
     "output_type": "execute_result"
    },
    {
     "data": {
      "image/png": "[encoded data removed]",
      "text/plain": [
       "<Figure size 432x288 with 1 Axes>"
      ]
     },
     "metadata": {
      "needs_background": "light"
     },
     "output_type": "display_data"
    }
   ],
   "source": [
    "import matplotlib.pyplot as plt\n",
    "\n",
    "x = df[\"x\"].values\n",
    "y = df[\"y\"].values\n",
    "\n",
    "plt.scatter(df[\"x\"], df[\"y\"])\n",
    "plt.plot(x, f1(x, *params1), label=\"f1\")\n",
    "plt.plot(x, f2(x, *params2), label=\"f2\")\n",
    "plt.plot(x, f3(x, *params3), label=\"f3\")\n",
    "\n",
    "plt.legend()\n",
    "plt.ylim(0, 150)"
   ]
  },
  {
   "cell_type": "markdown",
   "id": "a6ba5dec",
   "metadata": {
    "slideshow": {
     "slide_type": "subslide"
    }
   },
   "source": [
    "### minimize\n",
    "\n",
    "`minimize` es una función que, como claramente lo dice, minimiza. Recibe\n",
    "\n",
    "- Una función estrcturuada como `f(X, *args)`\n",
    "- Valores iniciales de X.\n",
    "- Argumentos extra de la función.\n",
    "    - Otros parámetros opcionales\n",
    "    \n",
    "A modo de ejemplo, se va a minimizar la función error en valor absoluto:\n",
    "\n",
    "$\\sum_i|y_i - f(x_i)|$"
   ]
  },
  {
   "cell_type": "code",
   "execution_count": 36,
   "id": "d273e6b1",
   "metadata": {
    "slideshow": {
     "slide_type": "subslide"
    }
   },
   "outputs": [],
   "source": [
    "from scipy.optimize import minimize\n",
    "#minimize?"
   ]
  },
  {
   "cell_type": "code",
   "execution_count": 37,
   "id": "ef6ee72b",
   "metadata": {
    "code_folding": [],
    "slideshow": {
     "slide_type": "subslide"
    }
   },
   "outputs": [],
   "source": [
    "def f1(x, a, b):\n",
    "    y = a*x + b\n",
    "    return y\n",
    "\n",
    "\n",
    "def f1_obj(X):\n",
    "    a, b = X\n",
    "    \n",
    "    y = df[\"y\"]\n",
    "    x = df[\"x\"]\n",
    "    \n",
    "    error = sum(abs(y - f1(x, a, b)))\n",
    "    return error"
   ]
  },
  {
   "cell_type": "code",
   "execution_count": 40,
   "id": "a9ac1f43",
   "metadata": {
    "slideshow": {
     "slide_type": "-"
    }
   },
   "outputs": [
    {
     "data": {
      "text/plain": [
       "      fun: 120.86768486400737\n",
       " hess_inv: array([[ 0.01956276, -0.04860166],\n",
       "       [-0.04860166,  0.12074584]])\n",
       "      jac: array([-1.19339371, -2.        ])\n",
       "  message: 'Desired error not necessarily achieved due to precision loss.'\n",
       "     nfev: 564\n",
       "      nit: 16\n",
       "     njev: 184\n",
       "   status: 2\n",
       "  success: False\n",
       "        x: array([ 15.55252639, -40.97273759])"
      ]
     },
     "execution_count": 40,
     "metadata": {},
     "output_type": "execute_result"
    }
   ],
   "source": [
    "minimize(f1_obj, x0=[1, 1])"
   ]
  },
  {
   "cell_type": "markdown",
   "id": "e1d6dec0",
   "metadata": {
    "slideshow": {
     "slide_type": "subslide"
    }
   },
   "source": [
    "#### Función objetivo genérica\n",
    "\n",
    "En el caso anterior es necesario generar una función objetivo para cada función que se quiere ajustar.\n",
    "\n",
    "Cómo se puede solucionar esto?"
   ]
  },
  {
   "cell_type": "code",
   "execution_count": null,
   "id": "e9b9ccb8",
   "metadata": {
    "code_folding": [],
    "slideshow": {
     "slide_type": "subslide"
    }
   },
   "outputs": [],
   "source": [
    "# Inyección de dependencia!\n",
    "\n",
    "def f_obj(X, *args):\n",
    "    \"\"\"Función objetivo genérica\n",
    "    X: Parámetros a ajustar.\n",
    "    args: Set de argumentos de función objetivo\n",
    "          [función_a_ajustar, valores_x, valores_y]\n",
    "    \"\"\"\n",
    "    f = args[0]\n",
    "    x = args[1]\n",
    "    y = args[2]\n",
    "    \n",
    "    y_prediccion = f(x, *X)\n",
    "    \n",
    "    funcion_objetivo = sum(abs(y - y_prediccion))\n",
    "    return funcion_objetivo"
   ]
  },
  {
   "cell_type": "code",
   "execution_count": 41,
   "id": "ffb268e2",
   "metadata": {
    "slideshow": {
     "slide_type": "subslide"
    }
   },
   "outputs": [],
   "source": [
    "sol1 = minimize(f_obj, x0=[1, 2], args=(f1, df[\"x\"], df[\"y\"]))\n",
    "\n",
    "sol2 = minimize(f_obj, x0=[1, 2, 3], args=(f2, df[\"x\"], df[\"y\"]))"
   ]
  },
  {
   "cell_type": "code",
   "execution_count": 43,
   "id": "6794857a",
   "metadata": {},
   "outputs": [
    {
     "data": {
      "text/plain": [
       "      fun: 96.7183982262619\n",
       " hess_inv: array([[ 0.38302329, -0.52011111, -0.04533393],\n",
       "       [-0.52011111,  0.72181223, -0.04821154],\n",
       "       [-0.04533393, -0.04821154,  0.99729232]])\n",
       "      jac: array([32.22777939,  1.        ,  4.        ])\n",
       "  message: 'Desired error not necessarily achieved due to precision loss.'\n",
       "     nfev: 220\n",
       "      nit: 1\n",
       "     njev: 52\n",
       "   status: 2\n",
       "  success: False\n",
       "        x: array([0.96433041, 1.98811014, 2.99624531])"
      ]
     },
     "execution_count": 43,
     "metadata": {},
     "output_type": "execute_result"
    }
   ],
   "source": [
    "sol2"
   ]
  },
  {
   "cell_type": "code",
   "execution_count": 44,
   "id": "1c2ec7c4",
   "metadata": {
    "slideshow": {
     "slide_type": "subslide"
    }
   },
   "outputs": [
    {
     "name": "stderr",
     "output_type": "stream",
     "text": [
      "/usr/lib/python3.10/site-packages/pandas/core/arraylike.py:397: RuntimeWarning: overflow encountered in exp\n",
      "  result = getattr(ufunc, method)(*inputs, **kwargs)\n",
      "/home/ruther/.local/lib/python3.10/site-packages/scipy/optimize/_numdiff.py:557: RuntimeWarning: invalid value encountered in subtract\n",
      "  df = fun(x) - f0\n",
      "/usr/lib/python3.10/site-packages/pandas/core/arraylike.py:397: RuntimeWarning: overflow encountered in exp\n",
      "  result = getattr(ufunc, method)(*inputs, **kwargs)\n"
     ]
    }
   ],
   "source": [
    "sol3 = minimize(f_obj, x0=[1, 2, 4], args=(f3, df[\"x\"], df[\"y\"]))"
   ]
  },
  {
   "cell_type": "code",
   "execution_count": 45,
   "id": "ff3d09e3",
   "metadata": {
    "slideshow": {
     "slide_type": "-"
    }
   },
   "outputs": [
    {
     "data": {
      "text/plain": [
       "[<matplotlib.lines.Line2D at 0x7fcc6cc813f0>]"
      ]
     },
     "execution_count": 45,
     "metadata": {},
     "output_type": "execute_result"
    },
    {
     "data": {
      "image/png": "[encoded data removed]",
      "text/plain": [
       "<Figure size 432x288 with 1 Axes>"
      ]
     },
     "metadata": {
      "needs_background": "light"
     },
     "output_type": "display_data"
    }
   ],
   "source": [
    "plt.scatter(x, df.y)\n",
    "plt.plot(x, f3(x, *sol3.x))"
   ]
  },
  {
   "cell_type": "code",
   "execution_count": 46,
   "id": "73f5a40c",
   "metadata": {
    "slideshow": {
     "slide_type": "subslide"
    }
   },
   "outputs": [],
   "source": [
    "sol3 = minimize(f_obj, x0=[1, 2, 4], args=(f3, df[\"x\"], df[\"y\"]), method='COBYLA')"
   ]
  },
  {
   "cell_type": "code",
   "execution_count": 47,
   "id": "dae40ee5",
   "metadata": {
    "slideshow": {
     "slide_type": "-"
    }
   },
   "outputs": [
    {
     "data": {
      "text/plain": [
       "[<matplotlib.lines.Line2D at 0x7fcc6cae9240>]"
      ]
     },
     "execution_count": 47,
     "metadata": {},
     "output_type": "execute_result"
    },
    {
     "data": {
      "image/png": "[encoded data removed]",
      "text/plain": [
       "<Figure size 432x288 with 1 Axes>"
      ]
     },
     "metadata": {
      "needs_background": "light"
     },
     "output_type": "display_data"
    }
   ],
   "source": [
    "plt.scatter(x, df.y)\n",
    "plt.plot(x, f3(x, *sol3.x))"
   ]
  },
  {
   "cell_type": "markdown",
   "id": "98fe7da1",
   "metadata": {
    "slideshow": {
     "slide_type": "slide"
    }
   },
   "source": [
    "Referencias\n",
    "\n",
    "- [Pandas](https://pandas.pydata.org/docs/index.html)\n",
    "- [read_excel](https://pandas.pydata.org/docs/reference/api/pandas.read_excel.html?highlight=pandas%20read_excel#pandas.read_excel)\n",
    "- [SciPy](https://docs.scipy.org/)\n",
    "- [minimize](https://docs.scipy.org/doc/scipy/reference/generated/scipy.optimize.minimize.html)\n",
    "- [curve_fit](https://docs.scipy.org/doc/scipy/reference/generated/scipy.optimize.curve_fit.html)"
   ]
  }
 ],
 "metadata": {
  "celltoolbar": "Slideshow",
  "kernelspec": {
   "display_name": "Python 3",
   "language": "python",
   "name": "python3"
  },
  "language_info": {
   "codemirror_mode": {
    "name": "ipython",
    "version": 3
   },
   "file_extension": ".py",
   "mimetype": "text/x-python",
   "name": "python",
   "nbconvert_exporter": "python",
   "pygments_lexer": "ipython3",
   "version": "3.10.5"
  }
 },
 "nbformat": 4,
 "nbformat_minor": 5
}
