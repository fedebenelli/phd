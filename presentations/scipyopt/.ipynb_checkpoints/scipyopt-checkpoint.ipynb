{
 "cells": [
  {
   "cell_type": "markdown",
   "id": "8ddcc7d4",
   "metadata": {
    "cell_style": "center",
    "slideshow": {
     "slide_type": "slide"
    }
   },
   "source": [
    "# Pandas\n",
    "---\n",
    "\n",
    "## Lectura de datos con pandas\n",
    "Pandas es una módulo que permite lectura y manipulación de datos de una manera práctica.\n",
    "\n",
    "Para almacenar los datos en una variable se utilizan los métodos:\n",
    "```py\n",
    "- pandas.read_csv(<nombre-de-archivo>, sep=<tipo-de-separador>)\n",
    "- pandas.read_excel(<archivo-excel>)\n",
    "```\n",
    "\n",
    "El nombre estándar para importar pandas es `pd` y el nombre de variable para un `DataFrame` es `df`, por lo que la línea típica de lectura de datos es:\n",
    "`df = pd.read_csv`"
   ]
  },
  {
   "cell_type": "code",
   "execution_count": null,
   "id": "a0064f9e",
   "metadata": {
    "slideshow": {
     "slide_type": "subslide"
    }
   },
   "outputs": [],
   "source": [
    "import pandas as pd\n",
    "df = pd.read_excel('data.xlsx')"
   ]
  },
  {
   "cell_type": "code",
   "execution_count": null,
   "id": "5e038ba0",
   "metadata": {
    "scrolled": false,
    "slideshow": {
     "slide_type": "subslide"
    }
   },
   "outputs": [],
   "source": [
    "df"
   ]
  },
  {
   "cell_type": "markdown",
   "id": "af5bfaa9",
   "metadata": {
    "code_folding": [],
    "slideshow": {
     "slide_type": "slide"
    }
   },
   "source": [
    "# SciPy\n",
    "\n",
    "---\n",
    "\n",
    "SciPy es una librería que recopila múltiples funciones de interés en el ámbito científico. En este momento nos centramos en `scipy.optimize`\n",
    "\n",
    "## scipy.optimize\n",
    "`scipy.optimize` posee las funciones `minimize` y `curve_fit` que permiten el ajuste de funciones a datos reales."
   ]
  },
  {
   "cell_type": "markdown",
   "id": "4911bf3a",
   "metadata": {
    "slideshow": {
     "slide_type": "subslide"
    }
   },
   "source": [
    "### curve fit\n",
    "\n",
    "`curve_fit` es una función que recibe:\n",
    "\n",
    "- Una función estrucutrada como `f(x, *parametros)`\n",
    "- Datos de $x$ experimentales.\n",
    "- Datos de $y$ experimentales.\n",
    "    - Otros parámetros opcionales.\n",
    "    \n",
    " Y devuelve una tupla de dos elementos:\n",
    " \n",
    " - popt: Parámetros luego de optimizar.\n",
    " - pcov: Matriz de covarianza de parámetros ajustados. \n",
    " \n",
    " \n",
    " > Utiliza los mínimos cuadrados ($\\sum_i(y_i - f(x_i))^2$) como función objetivo para realizar el ajuste."
   ]
  },
  {
   "cell_type": "code",
   "execution_count": null,
   "id": "f5ee8156",
   "metadata": {
    "slideshow": {
     "slide_type": "subslide"
    }
   },
   "outputs": [],
   "source": [
    "from scipy.optimize import curve_fit\n",
    "\n",
    "# curve_fit"
   ]
  },
  {
   "cell_type": "code",
   "execution_count": null,
   "id": "65873032",
   "metadata": {
    "code_folding": [],
    "slideshow": {
     "slide_type": "subslide"
    }
   },
   "outputs": [],
   "source": [
    "from numpy import exp\n",
    "\n",
    "def f1(x, a, b):\n",
    "    y = a*x + b\n",
    "    return y\n",
    "\n",
    "def f2(x, a, b, c):\n",
    "    y = a*x**2 + b*x + c\n",
    "    return y\n",
    "\n",
    "def f3(x, a, b, c):\n",
    "    y = a*exp(b*x) + c\n",
    "    return y"
   ]
  },
  {
   "cell_type": "code",
   "execution_count": null,
   "id": "f2fbb75c",
   "metadata": {
    "slideshow": {
     "slide_type": "subslide"
    }
   },
   "outputs": [],
   "source": [
    "curve_fit(f1, df[\"x\"], df[\"y\"])[0]"
   ]
  },
  {
   "cell_type": "code",
   "execution_count": null,
   "id": "7b2f6cab",
   "metadata": {
    "slideshow": {
     "slide_type": "subslide"
    }
   },
   "outputs": [],
   "source": [
    "a, b = curve_fit(f1, df[\"x\"], df[\"y\"])[0]"
   ]
  },
  {
   "cell_type": "code",
   "execution_count": null,
   "id": "b2377617",
   "metadata": {
    "slideshow": {
     "slide_type": "subslide"
    }
   },
   "outputs": [],
   "source": [
    "plt.scatter(df[\"x\"], df[\"y\"])\n",
    "plt.plot(x, f1(x, a, b), label=\"f1\")"
   ]
  },
  {
   "cell_type": "code",
   "execution_count": null,
   "id": "bb5d09b3",
   "metadata": {
    "slideshow": {
     "slide_type": "subslide"
    }
   },
   "outputs": [],
   "source": [
    "params1 = curve_fit(f1, df[\"x\"], df[\"y\"])[0]\n",
    "params2 = curve_fit(f2, df[\"x\"], df[\"y\"])[0]\n",
    "params3 = curve_fit(f3, df[\"x\"], df[\"y\"])[0]"
   ]
  },
  {
   "cell_type": "code",
   "execution_count": null,
   "id": "c3524859",
   "metadata": {
    "cell_style": "center",
    "scrolled": true,
    "slideshow": {
     "slide_type": "subslide"
    }
   },
   "outputs": [],
   "source": [
    "import matplotlib.pyplot as plt\n",
    "\n",
    "x = df[\"x\"].values\n",
    "y = df[\"y\"].values\n",
    "\n",
    "plt.scatter(df[\"x\"], df[\"y\"])\n",
    "plt.plot(x, f1(x, *params1), label=\"f1\")\n",
    "plt.plot(x, f2(x, *params2), label=\"f2\")\n",
    "plt.plot(x, f3(x, *params3), label=\"f3\")\n",
    "\n",
    "plt.legend()\n",
    "plt.ylim(0, 150)"
   ]
  },
  {
   "cell_type": "markdown",
   "id": "9b423cf2",
   "metadata": {
    "slideshow": {
     "slide_type": "subslide"
    }
   },
   "source": [
    "### minimize\n",
    "\n",
    "`minimize` es una función que, como claramente lo dice, minimiza. Recibe\n",
    "\n",
    "- Una función estrcturuada como `f(X, *args)`\n",
    "- Valores iniciales de X.\n",
    "- Argumentos extra de la función.\n",
    "    - Otros parámetros opcionales\n",
    "    \n",
    "A modo de ejemplo, se va a minimizar la función error en valor absoluto:\n",
    "\n",
    "$\\sum_i|y_i - f(x_i)|$"
   ]
  },
  {
   "cell_type": "code",
   "execution_count": null,
   "id": "50595082",
   "metadata": {
    "slideshow": {
     "slide_type": "subslide"
    }
   },
   "outputs": [],
   "source": [
    "from scipy.optimize import minimize\n",
    "\n",
    "# minimize"
   ]
  },
  {
   "cell_type": "code",
   "execution_count": null,
   "id": "284343ea",
   "metadata": {
    "slideshow": {
     "slide_type": "subslide"
    }
   },
   "outputs": [],
   "source": [
    "def f1(x, a, b):\n",
    "    y = a*x + b\n",
    "    return y\n",
    "\n",
    "\n",
    "def f1_obj(X):\n",
    "    a, b = X\n",
    "    \n",
    "    y = df[\"y\"]\n",
    "    x = df[\"x\"]\n",
    "    \n",
    "    error = sum(abs(y - f1(x, a, b)))\n",
    "    return error"
   ]
  },
  {
   "cell_type": "code",
   "execution_count": null,
   "id": "a8d34c47",
   "metadata": {
    "slideshow": {
     "slide_type": "-"
    }
   },
   "outputs": [],
   "source": [
    "minimize(f1_obj, x0=[1, 1])"
   ]
  },
  {
   "cell_type": "markdown",
   "id": "9f235e93",
   "metadata": {
    "slideshow": {
     "slide_type": "subslide"
    }
   },
   "source": [
    "#### Función objetivo genérica\n",
    "\n",
    "En el caso anterior es necesario generar una función objetivo para cada función que se quiere ajustar.\n",
    "\n",
    "Cómo se puede solucionar esto?"
   ]
  },
  {
   "cell_type": "code",
   "execution_count": null,
   "id": "093314fb",
   "metadata": {
    "code_folding": [],
    "slideshow": {
     "slide_type": "subslide"
    }
   },
   "outputs": [],
   "source": [
    "# Inyección de dependencia!\n",
    "\n",
    "def f_obj(X, *args):\n",
    "    \"\"\"Función objetivo genérica\n",
    "    X: Parámetros a ajustar.\n",
    "    args: Set de argumentos de función objetivo\n",
    "          [función_a_ajustar, valores_x, valores_y]\n",
    "    \"\"\"\n",
    "    f = args[0]\n",
    "    x = args[1]\n",
    "    y = args[2]\n",
    "    \n",
    "    y_prediccion = f(x, *X)\n",
    "    \n",
    "    funcion_objetivo = sum(abs(y - y_prediccion))\n",
    "    return funcion_objetivo"
   ]
  },
  {
   "cell_type": "code",
   "execution_count": null,
   "id": "bbbb6f5e",
   "metadata": {
    "slideshow": {
     "slide_type": "subslide"
    }
   },
   "outputs": [],
   "source": [
    "sol1 = minimize(f_obj, x0=[1, 2], args=(f1, df[\"x\"], df[\"y\"]))\n",
    "\n",
    "sol2 = minimize(f_obj, x0=[1, 2, 3], args=(f2, df[\"x\"], df[\"y\"]))"
   ]
  },
  {
   "cell_type": "code",
   "execution_count": null,
   "id": "a0e2d1c3",
   "metadata": {},
   "outputs": [],
   "source": [
    "sol1"
   ]
  },
  {
   "cell_type": "code",
   "execution_count": null,
   "id": "19ac8084",
   "metadata": {
    "slideshow": {
     "slide_type": "subslide"
    }
   },
   "outputs": [],
   "source": [
    "sol3 = minimize(f_obj, x0=[1, 2, 4], args=(f3, df[\"x\"], df[\"y\"]))"
   ]
  },
  {
   "cell_type": "code",
   "execution_count": null,
   "id": "6d1dcbdb",
   "metadata": {
    "slideshow": {
     "slide_type": "-"
    }
   },
   "outputs": [],
   "source": [
    "plt.scatter(x, df.y)\n",
    "plt.plot(x, f3(x, *sol3.x))"
   ]
  },
  {
   "cell_type": "code",
   "execution_count": null,
   "id": "319eae7b",
   "metadata": {
    "slideshow": {
     "slide_type": "subslide"
    }
   },
   "outputs": [],
   "source": [
    "sol3 = minimize(f_obj, x0=[1, 2, 4], args=(f3, df[\"x\"], df[\"y\"]), method='COBYLA')"
   ]
  },
  {
   "cell_type": "code",
   "execution_count": null,
   "id": "aa89759b",
   "metadata": {
    "slideshow": {
     "slide_type": "-"
    }
   },
   "outputs": [],
   "source": [
    "plt.scatter(x, df.y)\n",
    "plt.plot(x, f3(x, *sol3.x))"
   ]
  },
  {
   "cell_type": "markdown",
   "id": "a3a26326",
   "metadata": {},
   "source": [
    "Referencias\n",
    "\n",
    "- [Pandas](https://pandas.pydata.org/docs/index.html)\n",
    "- [read_excel](https://pandas.pydata.org/docs/reference/api/pandas.read_excel.html?highlight=pandas%20read_excel#pandas.read_excel)\n",
    "- [SciPy](https://docs.scipy.org/)\n",
    "- [minimize](https://docs.scipy.org/doc/scipy/reference/generated/scipy.optimize.minimize.html)\n",
    "- [curve_fit](https://docs.scipy.org/doc/scipy/reference/generated/scipy.optimize.curve_fit.html)"
   ]
  },
  {
   "cell_type": "code",
   "execution_count": null,
   "id": "478400b1",
   "metadata": {},
   "outputs": [],
   "source": []
  }
 ],
 "metadata": {
  "celltoolbar": "Slideshow",
  "kernelspec": {
   "display_name": "Python 3",
   "language": "python",
   "name": "python3"
  },
  "language_info": {
   "codemirror_mode": {
    "name": "ipython",
    "version": 3
   },
   "file_extension": ".py",
   "mimetype": "text/x-python",
   "name": "python",
   "nbconvert_exporter": "python",
   "pygments_lexer": "ipython3",
   "version": "3.10.5"
  }
 },
 "nbformat": 4,
 "nbformat_minor": 5
}
